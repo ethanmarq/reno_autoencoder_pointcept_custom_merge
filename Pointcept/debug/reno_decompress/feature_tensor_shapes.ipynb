{
 "cells": [
  {
   "cell_type": "code",
   "execution_count": 1,
   "id": "007918d5-8c37-4874-ac60-b4d8f32b3f3c",
   "metadata": {},
   "outputs": [
    {
     "name": "stderr",
     "output_type": "stream",
     "text": [
      "Using /home/marque6/.cache/torch_extensions/py39_cu121 as PyTorch extensions root...\n",
      "Emitting ninja build file /home/marque6/.cache/torch_extensions/py39_cu121/torchac_backend/build.ninja...\n",
      "Building extension module torchac_backend...\n",
      "Allowing ninja to set a default number of workers... (overridable by setting the environment variable MAX_JOBS=N)\n",
      "Loading extension module torchac_backend...\n"
     ]
    },
    {
     "name": "stdout",
     "output_type": "stream",
     "text": [
      "ninja: no work to do.\n"
     ]
    },
    {
     "name": "stderr",
     "output_type": "stream",
     "text": [
      "/home/marque6/000_MLBD/2025_Summer/merged_PointTransformerV3/.pixi/envs/default/lib/python3.9/site-packages/torchvision/io/image.py:13: UserWarning: Failed to load image Python extension: '/home/marque6/000_MLBD/2025_Summer/merged_PointTransformerV3/.pixi/envs/default/lib/python3.9/site-packages/torchvision/image.so: undefined symbol: _ZN3c1017RegisterOperatorsD1Ev'If you don't plan on using image functionality from `torchvision.io`, you can ignore this warning. Otherwise, there might be something wrong with your environment. Did you have `libjpeg` or `libpng` installed before building `torchvision` from source?\n",
      "  warn(\n",
      "/home/marque6/000_MLBD/2025_Summer/merged_PointTransformerV3/.pixi/envs/default/lib/python3.9/site-packages/timm/models/layers/__init__.py:48: FutureWarning: Importing from timm.models.layers is deprecated, please import via timm.layers\n",
      "  warnings.warn(f\"Importing from {__name__} is deprecated, please import via timm.layers\", FutureWarning)\n"
     ]
    },
    {
     "name": "stdout",
     "output_type": "stream",
     "text": [
      "Jupyter environment detected. Enabling Open3D WebVisualizer.\n",
      "[Open3D INFO] WebRTC GUI backend enabled.\n",
      "[Open3D INFO] WebRTCWindowSystem: HTTP handshake server disabled.\n"
     ]
    }
   ],
   "source": [
    "import os\n",
    "os.chdir('/home/marque6/000_MLBD/2025_Summer/merged_PointTransformerV3/Pointcept')\n",
    "\n",
    "from debug.reno_decompress.decompress_tensor import RENO_Decompressor"
   ]
  },
  {
   "cell_type": "code",
   "execution_count": 2,
   "id": "249b80eb-1eb8-4159-bf8a-8ac829b82580",
   "metadata": {
    "tags": []
   },
   "outputs": [],
   "source": [
    "ckpt_path='/home/marque6/000_MLBD/2025_Summer/merged_PointTransformerV3/Pointcept/checkpoints/reno/ckpt.pt'\n",
    "\n",
    "decompressor = RENO_Decompressor(ckpt_path=ckpt_path)\n",
    "file_path = '/scratch/marque6/Goose-Pontcept/reno_compression_results/train/Q_64/compressed/2022-07-22_flight/2022-07-22_flight__0305_1658495356213586534_vls128.bin'\n",
    "\n",
    "\"\"\" # Files\n",
    "2022-07-22_flight__0305_1658495356213586534_vls128.bin  2022-07-22_flight__0464_1658496535869507787_vls128.bin\n",
    "2022-07-22_flight__0306_1658495361070660159_vls128.bin  2022-07-22_flight__0465_1658496539279830277_vls128.bin\n",
    "2022-07-22_flight__0307_1658495365927986784_vls128.bin  2022-07-22_flight__0466_1658496543515750356_vls128.bin\n",
    "2022-07-22_flight__0308_1658495371198930498_vls128.bin  2022-07-22_flight__0467_1658496547648249428_vls128.bin\n",
    "2022-07-22_flight__0309_1658495379156766967_vls128.bin  2022-07-22_flight__0468_1658496550748353070_vls128.bin\n",
    "\"\"\"\n",
    "\n",
    "sparse_tensor = decompressor.decompress_file(file_path)\n"
   ]
  },
  {
   "cell_type": "code",
   "execution_count": 7,
   "id": "f8578c4b-fb95-4854-b7ae-71b37f2f1197",
   "metadata": {
    "tags": []
   },
   "outputs": [
    {
     "name": "stdout",
     "output_type": "stream",
     "text": [
      "Coordinates shape: torch.Size([10811, 4])\n",
      "Features shape: torch.Size([10811, 32])\n"
     ]
    }
   ],
   "source": [
    "print(f\"Coordinates shape: {sparse_tensor.coords.shape}\")\n",
    "print(f\"Features shape: {sparse_tensor.feats.shape}\")"
   ]
  },
  {
   "cell_type": "code",
   "execution_count": null,
   "id": "512e8415-7551-48ee-ada0-05e9c1f6eff7",
   "metadata": {},
   "outputs": [],
   "source": []
  }
 ],
 "metadata": {
  "kernelspec": {
   "display_name": "Python (Pixi)",
   "language": "python",
   "name": "pixi-kernel-python3"
  },
  "language_info": {
   "codemirror_mode": {
    "name": "ipython",
    "version": 3
   },
   "file_extension": ".py",
   "mimetype": "text/x-python",
   "name": "python",
   "nbconvert_exporter": "python",
   "pygments_lexer": "ipython3",
   "version": "3.9.19"
  }
 },
 "nbformat": 4,
 "nbformat_minor": 5
}
